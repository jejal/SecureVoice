{
 "cells": [
  {
   "cell_type": "code",
   "execution_count": null,
   "metadata": {
    "colab": {
     "base_uri": "https://localhost:8080/"
    },
    "executionInfo": {
     "elapsed": 27689,
     "status": "ok",
     "timestamp": 1724199429924,
     "user": {
      "displayName": "임예진",
      "userId": "07930247512006559329"
     },
     "user_tz": -540
    },
    "id": "dMboG1Mv3nUW",
    "outputId": "b061ce50-9c84-4081-97af-29f0fa1c8f8a"
   },
   "outputs": [],
   "source": [
    "from google.colab import drive\n",
    "drive.mount('/content/drive')"
   ]
  },
  {
   "cell_type": "code",
   "execution_count": null,
   "metadata": {
    "colab": {
     "base_uri": "https://localhost:8080/"
    },
    "executionInfo": {
     "elapsed": 6090,
     "status": "ok",
     "timestamp": 1724199443131,
     "user": {
      "displayName": "임예진",
      "userId": "07930247512006559329"
     },
     "user_tz": -540
    },
    "id": "Hygg8Os23OFA",
    "outputId": "361ff1a4-7aa3-4d63-84c2-6c562dc39cec"
   },
   "outputs": [],
   "source": [
    "!pip install librosa pandas numpy scikit-learn tensorflow"
   ]
  },
  {
   "cell_type": "code",
   "execution_count": null,
   "metadata": {
    "id": "5-ecfYr5L9AH"
   },
   "outputs": [],
   "source": [
    "from google.colab import drive\n",
    "import os\n",
    "\n",
    "# 데이터 경로 설정\n",
    "fake_folder = '/content/drive/MyDrive/뿡뿡이걸/fake'\n",
    "real_folder = '/content/drive/MyDrive/뿡뿡이걸/real'\n",
    "\n",
    "# 데이터 불러오기\n",
    "def load_data(folder):\n",
    "    files = [os.path.join(folder, f) for f in os.listdir(folder) if f.endswith('.wav')]\n",
    "    return files\n",
    "\n",
    "fake_files = load_data(fake_folder)\n",
    "real_files = load_data(real_folder)\n"
   ]
  },
  {
   "cell_type": "code",
   "execution_count": null,
   "metadata": {
    "id": "55Aq8TSVMY31"
   },
   "outputs": [],
   "source": [
    "import librosa\n",
    "import numpy as np\n",
    "\n",
    "def extract_features(file_path, n_mfcc=13):\n",
    "    audio, sr = librosa.load(file_path, sr=None)\n",
    "    mfccs = librosa.feature.mfcc(y=audio, sr=sr, n_mfcc=n_mfcc)\n",
    "    mfccs_scaled = np.mean(mfccs.T, axis=0)\n",
    "    return mfccs_scaled\n",
    "\n",
    "# 특징 추출 및 라벨 생성\n",
    "def prepare_data(fake_files, real_files):\n",
    "    features = []\n",
    "    labels = []\n",
    "\n",
    "    for file in fake_files:\n",
    "        features.append(extract_features(file))\n",
    "        labels.append(0)  # Fake label\n",
    "\n",
    "    for file in real_files:\n",
    "        features.append(extract_features(file))\n",
    "        labels.append(1)  # Real label\n",
    "\n",
    "    return np.array(features), np.array(labels)\n",
    "\n",
    "X, y = prepare_data(fake_files, real_files)\n"
   ]
  },
  {
   "cell_type": "code",
   "execution_count": null,
   "metadata": {
    "colab": {
     "base_uri": "https://localhost:8080/"
    },
    "executionInfo": {
     "elapsed": 15469,
     "status": "ok",
     "timestamp": 1724199762185,
     "user": {
      "displayName": "임예진",
      "userId": "07930247512006559329"
     },
     "user_tz": -540
    },
    "id": "Ou1SFad6Mnut",
    "outputId": "dc4e9b5d-5d3d-470e-b074-827a62d5242d"
   },
   "outputs": [],
   "source": [
    "from sklearn.model_selection import train_test_split\n",
    "from tensorflow.keras.models import Sequential\n",
    "from tensorflow.keras.layers import Dense, Dropout\n",
    "\n",
    "# 데이터 분할\n",
    "X_train, X_test, y_train, y_test = train_test_split(X, y, test_size=0.2, random_state=42)\n",
    "\n",
    "# 모델 생성\n",
    "model = Sequential([\n",
    "    Dense(128, activation='relu', input_shape=(X_train.shape[1],)),\n",
    "    Dropout(0.3),\n",
    "    Dense(64, activation='relu'),\n",
    "    Dropout(0.3),\n",
    "    Dense(1, activation='sigmoid')\n",
    "])\n",
    "\n",
    "model.compile(optimizer='adam', loss='binary_crossentropy', metrics=['accuracy'])\n",
    "\n",
    "# 모델 학습\n",
    "history = model.fit(X_train, y_train, epochs=50, batch_size=32, validation_split=0.2)\n"
   ]
  },
  {
   "cell_type": "code",
   "execution_count": null,
   "metadata": {
    "colab": {
     "base_uri": "https://localhost:8080/"
    },
    "executionInfo": {
     "elapsed": 572,
     "status": "ok",
     "timestamp": 1724199765187,
     "user": {
      "displayName": "임예진",
      "userId": "07930247512006559329"
     },
     "user_tz": -540
    },
    "id": "IBNoFPssMwoX",
    "outputId": "72e0541a-c72c-416d-92c3-88328216842d"
   },
   "outputs": [],
   "source": [
    "# 모델 평가\n",
    "test_loss, test_accuracy = model.evaluate(X_test, y_test)\n",
    "\n",
    "print(f\"테스트 손실: {test_loss:.4f}\")\n",
    "print(f\"테스트 정확도: {test_accuracy:.4f}\")"
   ]
  },
  {
   "cell_type": "code",
   "execution_count": null,
   "metadata": {
    "colab": {
     "base_uri": "https://localhost:8080/",
     "height": 271
    },
    "executionInfo": {
     "elapsed": 1784,
     "status": "ok",
     "timestamp": 1724199773618,
     "user": {
      "displayName": "임예진",
      "userId": "07930247512006559329"
     },
     "user_tz": -540
    },
    "id": "Lhl91YEEM9iF",
    "outputId": "c43fd674-e0cc-4526-91eb-03f87ac0a791"
   },
   "outputs": [],
   "source": [
    "import matplotlib.pyplot as plt\n",
    "\n",
    "# 학습 손실 그래프\n",
    "plt.figure(figsize=(12, 4))\n",
    "plt.subplot(1, 2, 1)\n",
    "plt.plot(history.history['loss'], label='Train Loss')\n",
    "plt.plot(history.history['val_loss'], label='Validation Loss')\n",
    "plt.xlabel('Epoch')\n",
    "plt.ylabel('Loss')\n",
    "plt.title('Training and Validation Loss')\n",
    "plt.legend()\n",
    "\n",
    "# 학습 정확도 그래프\n",
    "plt.subplot(1, 2, 2)\n",
    "plt.plot(history.history['accuracy'], label='Train Accuracy')\n",
    "plt.plot(history.history['val_accuracy'], label='Validation Accuracy')\n",
    "plt.xlabel('Epoch')\n",
    "plt.ylabel('Accuracy')\n",
    "plt.title('Training and Validation Accuracy')\n",
    "plt.legend()\n",
    "\n",
    "plt.show()\n"
   ]
  },
  {
   "cell_type": "code",
   "execution_count": null,
   "metadata": {
    "colab": {
     "base_uri": "https://localhost:8080/"
    },
    "executionInfo": {
     "elapsed": 3958,
     "status": "ok",
     "timestamp": 1724199817880,
     "user": {
      "displayName": "임예진",
      "userId": "07930247512006559329"
     },
     "user_tz": -540
    },
    "id": "Z260uKuZ0I2B",
    "outputId": "a96e843b-61e6-4fba-822a-4940fe85a6b4"
   },
   "outputs": [],
   "source": [
    "# 테스트할 파일 경로 리스트\n",
    "test_files = [\n",
    "    '/content/drive/MyDrive/뿡뿡이걸/real/64.wav',\n",
    "    '/content/drive/MyDrive/뿡뿡이걸/real/0812_14.wav',\n",
    "    '/content/drive/MyDrive/뿡뿡이걸/fake/Exercise is important for 1.wav',\n",
    "    # 필요한 만큼 추가\n",
    "    '/content/drive/MyDrive/뿡뿡이걸/test/J_test_1.wav',\n",
    "    '/content/drive/MyDrive/뿡뿡이걸/test/Test.wav',\n",
    "    '/content/drive/MyDrive/뿡뿡이걸/test/gg_test_1.wav'\n",
    "]\n",
    "\n",
    "# 각 파일에 대해 예측 수행\n",
    "for file in test_files:\n",
    "    # 파일에서 특징 추출\n",
    "    test_feature = extract_features(file)\n",
    "\n",
    "    # 2D 배열로 변환\n",
    "    test_feature = np.expand_dims(test_feature, axis=0)\n",
    "\n",
    "    # 모델 예측\n",
    "    prediction = model.predict(test_feature)\n",
    "\n",
    "    # 예측 결과 출력\n",
    "    if prediction > 0.5:\n",
    "        print(f\"The model predicts that the audio '{os.path.basename(file)}' is Real with a probability of {prediction[0][0]:.2f}\")\n",
    "    else:\n",
    "        print(f\"The model predicts that the audio '{os.path.basename(file)}' is Fake with a probability of {1 - prediction[0][0]:.2f}\")\n"
   ]
  },
  {
   "cell_type": "code",
   "execution_count": null,
   "metadata": {
    "id": "-j-Ije2NKSRj"
   },
   "outputs": [],
   "source": [
    "model.save('/content/drive/MyDrive/뿡뿡이걸/network_PungPung.keras')"
   ]
  },
  {
   "cell_type": "code",
   "execution_count": null,
   "metadata": {
    "colab": {
     "base_uri": "https://localhost:8080/"
    },
    "executionInfo": {
     "elapsed": 1087,
     "status": "ok",
     "timestamp": 1724199850098,
     "user": {
      "displayName": "임예진",
      "userId": "07930247512006559329"
     },
     "user_tz": -540
    },
    "id": "gq7lUjWlRlT9",
    "outputId": "ea8c0c96-15c5-49df-c225-0d9d84b31be3"
   },
   "outputs": [],
   "source": [
    "from tensorflow.keras.models import load_model\n",
    "\n",
    "# 저장된 모델 로드\n",
    "loaded_model = load_model('/content/drive/MyDrive/뿡뿡이걸/network_PungPung.keras')\n",
    "\n",
    "# 모델 평가 (예: 로드 후 테스트 데이터로 평가)\n",
    "test_loss, test_accuracy = loaded_model.evaluate(X_test, y_test)\n",
    "print(f\"테스트 손실: {test_loss:.4f}\")\n",
    "print(f\"테스트 정확도: {test_accuracy:.4f}\")"
   ]
  }
 ],
 "metadata": {
  "colab": {
   "provenance": []
  },
  "kernelspec": {
   "display_name": "Python 3",
   "name": "python3"
  },
  "language_info": {
   "name": "python"
  }
 },
 "nbformat": 4,
 "nbformat_minor": 0
}
